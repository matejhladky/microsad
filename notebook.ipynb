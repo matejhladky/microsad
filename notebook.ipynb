{
 "cells": [
  {
   "cell_type": "code",
   "execution_count": 1,
   "metadata": {},
   "outputs": [],
   "source": [
    "import numpy as np\n",
    "import matplotlib.pyplot as plt"
   ]
  },
  {
   "cell_type": "code",
   "execution_count": 40,
   "metadata": {},
   "outputs": [],
   "source": [
    "def sigmoid(x):\n",
    "    return 1 / (1 + np.exp(-x))\n",
    "\n",
    "def sigmoid_deriv(x):\n",
    "    return sigmoid(x) * (1 - sigmoid(x))"
   ]
  },
  {
   "cell_type": "code",
   "execution_count": 41,
   "metadata": {},
   "outputs": [],
   "source": [
    "def loss_single(y, y_hat):\n",
    "    return (1 / 2) * (y - y_hat)**2\n",
    "\n",
    "def loss_single_deriv(y, y_hat):\n",
    "    return y_hat - y"
   ]
  },
  {
   "cell_type": "code",
   "execution_count": 115,
   "metadata": {},
   "outputs": [
    {
     "name": "stdout",
     "output_type": "stream",
     "text": [
      "X: (2, 10)\n",
      "Y: (1, 10)\n",
      "Generated X: [[-0.07333335 -0.37806487  0.89589735  0.16204897 -0.57516011 -0.83578052\n",
      "   0.3203691  -0.98897501  0.9181493  -0.90111833]\n",
      " [-0.3481666  -0.2048818   0.70670118 -0.60400867  0.26054667  0.61438706\n",
      "  -0.37640763  0.1059947   0.4710203   0.73283378]]\n",
      "Generated Y: [[1 1 0 0 0 0 1 0 0 0]]\n",
      "W1: (3, 2)\n",
      "b1: (3, 1)\n",
      "W2: (3, 3)\n",
      "b2: (3, 1)\n",
      "W3: (1, 3)\n",
      "b3: (1, 1)\n"
     ]
    }
   ],
   "source": [
    "# 10 examples, 2 features\n",
    "m = 10\n",
    "n = 2\n",
    "\n",
    "# circular decision boundary\n",
    "X = np.random.uniform(-1, 1, (n, m))\n",
    "radius = 0.5\n",
    "Y = (np.sum(X**2, axis=0) < radius**2).astype(int).reshape(1, m)\n",
    "\n",
    "print(\"Generated X:\", X)\n",
    "print(\"Generated Y:\", Y)\n",
    "\n",
    "print(f\"X: {X.shape}\")\n",
    "print(f\"Y: {Y.shape}\")\n",
    "\n",
    "layers_units = [n, 3, 3, 1]\n",
    "L = len(layers_units) - 1\n",
    "params = {}\n",
    "for l in range(1, len(layers_units)):\n",
    "    params[f'W{l}'] = np.random.rand(layers_units[l], layers_units[l - 1])\n",
    "    print(f\"W{l}: {params[f'W{l}'].shape}\")\n",
    "    params[f'b{l}'] = np.random.rand(layers_units[l], 1)\n",
    "    print(f\"b{l}: {params[f'b{l}'].shape}\")"
   ]
  },
  {
   "cell_type": "code",
   "execution_count": 116,
   "metadata": {},
   "outputs": [
    {
     "data": {
      "text/plain": [
       "{'W1': array([[0.82395336, 0.8160669 ],\n",
       "        [0.8970045 , 0.2514856 ],\n",
       "        [0.72821062, 0.92018234]]),\n",
       " 'b1': array([[0.86963659],\n",
       "        [0.0976739 ],\n",
       "        [0.50624384]]),\n",
       " 'W2': array([[0.57025989, 0.19104644, 0.2485448 ],\n",
       "        [0.89722149, 0.55715563, 0.58877266],\n",
       "        [0.35816026, 0.62684344, 0.42189271]]),\n",
       " 'b2': array([[0.97938399],\n",
       "        [0.50416415],\n",
       "        [0.51336352]]),\n",
       " 'W3': array([[0.13382087, 0.87339264, 0.42719997]]),\n",
       " 'b3': array([[0.77902457]])}"
      ]
     },
     "execution_count": 116,
     "metadata": {},
     "output_type": "execute_result"
    }
   ],
   "source": [
    "params"
   ]
  },
  {
   "cell_type": "code",
   "execution_count": 117,
   "metadata": {},
   "outputs": [
    {
     "name": "stdout",
     "output_type": "stream",
     "text": [
      "x: (2, 1)\n",
      "y: (1, 1)\n"
     ]
    }
   ],
   "source": [
    "x = X[:, 0].reshape(-1, 1)\n",
    "print(f\"x: {x.shape}\")\n",
    "y = Y[:, 0].reshape(-1, 1)\n",
    "print(f\"y: {y.shape}\")"
   ]
  },
  {
   "cell_type": "code",
   "execution_count": 126,
   "metadata": {},
   "outputs": [],
   "source": [
    "zs = {}\n",
    "activations = {}\n",
    "activations['a0'] = x\n",
    "\n",
    "for l in range(1, len(layers_units)):\n",
    "    zs[f'z{l}'] = np.dot(params[f'W{l}'], activations[f'a{l - 1}']) + params[f'b{l}']\n",
    "    activations[f'a{l}'] = sigmoid(zs[f'z{l}'])"
   ]
  },
  {
   "cell_type": "code",
   "execution_count": 127,
   "metadata": {},
   "outputs": [
    {
     "data": {
      "text/plain": [
       "({'z1': array([[ 0.52509114],\n",
       "         [-0.05566097],\n",
       "         [ 0.13246891]]),\n",
       "  'z2': array([[1.56306154],\n",
       "         [1.65263563],\n",
       "         [1.26802705]]),\n",
       "  'z3': array([[1.95604765]])},\n",
       " {'a0': array([[-0.07333335],\n",
       "         [-0.3481666 ]]),\n",
       "  'a1': array([[0.62833747],\n",
       "         [0.48608835],\n",
       "         [0.53306888]]),\n",
       "  'a2': array([[0.82679222],\n",
       "         [0.83924695],\n",
       "         [0.78040482]]),\n",
       "  'a3': array([[0.87610458]])})"
      ]
     },
     "execution_count": 127,
     "metadata": {},
     "output_type": "execute_result"
    }
   ],
   "source": [
    "zs, activations"
   ]
  },
  {
   "cell_type": "code",
   "execution_count": 128,
   "metadata": {},
   "outputs": [],
   "source": [
    "loss = loss_single(y, activations[f'a{L}'])"
   ]
  },
  {
   "cell_type": "code",
   "execution_count": 129,
   "metadata": {},
   "outputs": [
    {
     "data": {
      "text/plain": [
       "array([[0.00767504]])"
      ]
     },
     "execution_count": 129,
     "metadata": {},
     "output_type": "execute_result"
    }
   ],
   "source": [
    "loss"
   ]
  },
  {
   "cell_type": "code",
   "execution_count": 130,
   "metadata": {},
   "outputs": [],
   "source": [
    "grads = {}\n",
    "\n",
    "grads[f'd{L}'] = np.multiply(loss_single_deriv(y, activations[f'a{L}']), sigmoid_deriv(zs[f'z{L}']))\n",
    "grads[f'W{L}'] = np.dot(grads[f'd{L}'], activations[f'a{L - 1}'].T)\n",
    "grads[f'b{L}'] = grads[f'd{L}']\n",
    "\n",
    "for l in range(L - 1, 0, -1):\n",
    "    grads[f'd{l}'] = np.multiply(np.dot(params[f'W{l + 1}'].T, grads[f'd{l + 1}']), sigmoid_deriv(zs[f'z{l}']))\n",
    "    grads[f'W{l}'] = np.dot(grads[f'd{l}'], activations[f'a{l - 1}'].T)\n",
    "    grads[f'b{l}'] = grads[f'd{l}']"
   ]
  },
  {
   "cell_type": "code",
   "execution_count": 131,
   "metadata": {},
   "outputs": [
    {
     "data": {
      "text/plain": [
       "{'d3': array([[-0.01344827]]),\n",
       " 'W3': array([[-0.01111893, -0.01128642, -0.0104951 ]]),\n",
       " 'b3': array([[-0.01344827]]),\n",
       " 'd2': array([[-0.00025772],\n",
       "        [-0.00158462],\n",
       "        [-0.00098456]]),\n",
       " 'W2': array([[-0.00016194, -0.00012528, -0.00013738],\n",
       "        [-0.00099568, -0.00077027, -0.00084471],\n",
       "        [-0.00061863, -0.00047858, -0.00052484]]),\n",
       " 'b2': array([[-0.00025772],\n",
       "        [-0.00158462],\n",
       "        [-0.00098456]]),\n",
       " 'd1': array([[-0.0004487 ],\n",
       "        [-0.00038702],\n",
       "        [-0.00035156]]),\n",
       " 'W1': array([[3.29045120e-05, 1.56221576e-04],\n",
       "        [2.83817888e-05, 1.34748930e-04],\n",
       "        [2.57813322e-05, 1.22402677e-04]]),\n",
       " 'b1': array([[-0.0004487 ],\n",
       "        [-0.00038702],\n",
       "        [-0.00035156]])}"
      ]
     },
     "execution_count": 131,
     "metadata": {},
     "output_type": "execute_result"
    }
   ],
   "source": [
    "grads"
   ]
  },
  {
   "cell_type": "code",
   "execution_count": 132,
   "metadata": {},
   "outputs": [],
   "source": [
    "lr = 0.001\n",
    "for l in range(L - 1, 0, -1):\n",
    "    params[f'W{l}'] -= 0.01 * grads[f'W{l}']\n",
    "    params[f'b{l}'] -= 0.01 * grads[f'b{l}']"
   ]
  },
  {
   "cell_type": "code",
   "execution_count": 133,
   "metadata": {},
   "outputs": [
    {
     "data": {
      "text/plain": [
       "{'W1': array([[0.8239527 , 0.81606378],\n",
       "        [0.89700393, 0.2514829 ],\n",
       "        [0.72821011, 0.9201799 ]]),\n",
       " 'b1': array([[0.86964557],\n",
       "        [0.09768164],\n",
       "        [0.50625087]]),\n",
       " 'W2': array([[0.57026313, 0.19104894, 0.24854755],\n",
       "        [0.89724141, 0.55717103, 0.58878955],\n",
       "        [0.35817263, 0.62685301, 0.42190321]]),\n",
       " 'b2': array([[0.97938915],\n",
       "        [0.50419585],\n",
       "        [0.51338321]]),\n",
       " 'W3': array([[0.13382087, 0.87339264, 0.42719997]]),\n",
       " 'b3': array([[0.77902457]])}"
      ]
     },
     "execution_count": 133,
     "metadata": {},
     "output_type": "execute_result"
    }
   ],
   "source": [
    "params"
   ]
  },
  {
   "cell_type": "code",
   "execution_count": null,
   "metadata": {},
   "outputs": [],
   "source": []
  }
 ],
 "metadata": {
  "kernelspec": {
   "display_name": ".venv",
   "language": "python",
   "name": "python3"
  },
  "language_info": {
   "codemirror_mode": {
    "name": "ipython",
    "version": 3
   },
   "file_extension": ".py",
   "mimetype": "text/x-python",
   "name": "python",
   "nbconvert_exporter": "python",
   "pygments_lexer": "ipython3",
   "version": "3.11.2"
  }
 },
 "nbformat": 4,
 "nbformat_minor": 2
}
